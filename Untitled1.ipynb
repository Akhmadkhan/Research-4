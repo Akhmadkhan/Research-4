{
  "nbformat": 4,
  "nbformat_minor": 0,
  "metadata": {
    "colab": {
      "provenance": [],
      "authorship_tag": "ABX9TyOetsCYm5BsyflpPbCvP78X",
      "include_colab_link": true
    },
    "kernelspec": {
      "name": "python3",
      "display_name": "Python 3"
    },
    "language_info": {
      "name": "python"
    }
  },
  "cells": [
    {
      "cell_type": "markdown",
      "metadata": {
        "id": "view-in-github",
        "colab_type": "text"
      },
      "source": [
        "<a href=\"https://colab.research.google.com/github/Akhmadkhan/Research-4/blob/main/Untitled1.ipynb\" target=\"_parent\"><img src=\"https://colab.research.google.com/assets/colab-badge.svg\" alt=\"Open In Colab\"/></a>"
      ]
    },
    {
      "cell_type": "code",
      "execution_count": 1,
      "metadata": {
        "colab": {
          "base_uri": "https://localhost:8080/",
          "height": 0
        },
        "id": "6rJ2dfEallvX",
        "outputId": "a2daa46e-1195-45b1-e3b6-ff96eea7b324"
      },
      "outputs": [
        {
          "output_type": "stream",
          "name": "stdout",
          "text": [
            "Выходные данные после обучения:\n",
            "[[0.12392303]\n",
            " [0.91389811]\n",
            " [0.9136454 ]\n",
            " [0.06006471]]\n"
          ]
        }
      ],
      "source": [
        "import numpy as np\n",
        "\n",
        "# Функция активации (например, сигмоида)\n",
        "def sigmoid(x):\n",
        "    return 1 / (1 + np.exp(-x))\n",
        "\n",
        "# Производная функции активации\n",
        "def sigmoid_derivative(x):\n",
        "    return x * (1 - x)\n",
        "\n",
        "# Входные данные\n",
        "X = np.array([[0, 0],\n",
        "              [0, 1],\n",
        "              [1, 0],\n",
        "              [1, 1]])\n",
        "\n",
        "# Выходные данные\n",
        "y = np.array([[0],\n",
        "              [1],\n",
        "              [1],\n",
        "              [0]])\n",
        "\n",
        "# Инициализация весов сети\n",
        "input_neurons = 2\n",
        "hidden_neurons = 3\n",
        "output_neurons = 1\n",
        "\n",
        "# Случайная инициализация весов\n",
        "hidden_weights = np.random.uniform(size=(input_neurons, hidden_neurons))\n",
        "output_weights = np.random.uniform(size=(hidden_neurons, output_neurons))\n",
        "\n",
        "# Обучение сети\n",
        "epochs = 10000\n",
        "learning_rate = 0.1\n",
        "\n",
        "for epoch in range(epochs):\n",
        "    # Прямое распространение\n",
        "    hidden_layer_input = np.dot(X, hidden_weights)\n",
        "    hidden_layer_output = sigmoid(hidden_layer_input)\n",
        "\n",
        "    output_layer_input = np.dot(hidden_layer_output, output_weights)\n",
        "    output_layer_output = sigmoid(output_layer_input)\n",
        "\n",
        "    # Ошибка\n",
        "    error = y - output_layer_output\n",
        "\n",
        "    # Обратное распространение ошибки\n",
        "    d_output = error * sigmoid_derivative(output_layer_output)\n",
        "    error_hidden_layer = d_output.dot(output_weights.T)\n",
        "    d_hidden_layer = error_hidden_layer * sigmoid_derivative(hidden_layer_output)\n",
        "\n",
        "    # Обновление весов\n",
        "    output_weights += hidden_layer_output.T.dot(d_output) * learning_rate\n",
        "    hidden_weights += X.T.dot(d_hidden_layer) * learning_rate\n",
        "\n",
        "print(\"Выходные данные после обучения:\")\n",
        "print(output_layer_output)\n"
      ]
    }
  ]
}