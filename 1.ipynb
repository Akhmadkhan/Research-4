{
  "nbformat": 4,
  "nbformat_minor": 0,
  "metadata": {
    "colab": {
      "provenance": [],
      "authorship_tag": "ABX9TyOdXaIKVQiY04b+BRyDfPqQ",
      "include_colab_link": true
    },
    "kernelspec": {
      "name": "python3",
      "display_name": "Python 3"
    },
    "language_info": {
      "name": "python"
    }
  },
  "cells": [
    {
      "cell_type": "markdown",
      "metadata": {
        "id": "view-in-github",
        "colab_type": "text"
      },
      "source": [
        "<a href=\"https://colab.research.google.com/github/Akhmadkhan/Research-4/blob/main/1.ipynb\" target=\"_parent\"><img src=\"https://colab.research.google.com/assets/colab-badge.svg\" alt=\"Open In Colab\"/></a>"
      ]
    },
    {
      "cell_type": "markdown",
      "source": [
        "# Эксперимент с параметрами РНН"
      ],
      "metadata": {
        "id": "3GdtLLYRoaRs"
      }
    },
    {
      "cell_type": "markdown",
      "source": [
        "Перевод символов в двоичный вид"
      ],
      "metadata": {
        "id": "HfdSYJWB0WaE"
      }
    },
    {
      "cell_type": "code",
      "source": [
        "import random\n",
        "def char_to_binary(char):\n",
        "    return format(ord(char), '08b')\n",
        "\n",
        "# Символы A и B в двоичном виде\n",
        "A = char_to_binary('A')  # '01000001'\n",
        "B = char_to_binary('B')  # '01000010'\n",
        "random.seed(42)\n",
        "\n",
        "# Создание списка из 1000 перемешанных в разном порядке двоичных представлений A и B\n",
        "sequence = [A, B] * 500\n",
        "random.shuffle(sequence)\n",
        "\n",
        "# Сохранение последовательности в файл\n",
        "with open('binary_sequence.txt', 'w') as file:\n",
        "    for binary_char in sequence:\n",
        "        file.write(binary_char + '\\n')"
      ],
      "metadata": {
        "id": "Zp-LgFQ9wBpH"
      },
      "execution_count": 20,
      "outputs": []
    },
    {
      "cell_type": "code",
      "execution_count": 28,
      "metadata": {
        "colab": {
          "base_uri": "https://localhost:8080/"
        },
        "id": "NG0lPxTjoSob",
        "outputId": "7d9c3c8b-eda7-4d3b-c218-d74432fd1c04"
      },
      "outputs": [
        {
          "output_type": "stream",
          "name": "stdout",
          "text": [
            "Epoch 1/10\n",
            "32/32 [==============================] - 3s 6ms/step - loss: 0.6749 - accuracy: 0.7980\n",
            "Epoch 2/10\n",
            "32/32 [==============================] - 0s 6ms/step - loss: 0.6041 - accuracy: 1.0000\n",
            "Epoch 3/10\n",
            "32/32 [==============================] - 0s 7ms/step - loss: 0.2921 - accuracy: 1.0000\n",
            "Epoch 4/10\n",
            "32/32 [==============================] - 0s 6ms/step - loss: 0.0208 - accuracy: 1.0000\n",
            "Epoch 5/10\n",
            "32/32 [==============================] - 0s 6ms/step - loss: 0.0050 - accuracy: 1.0000\n",
            "Epoch 6/10\n",
            "32/32 [==============================] - 0s 6ms/step - loss: 0.0029 - accuracy: 1.0000\n",
            "Epoch 7/10\n",
            "32/32 [==============================] - 0s 7ms/step - loss: 0.0021 - accuracy: 1.0000\n",
            "Epoch 8/10\n",
            "32/32 [==============================] - 0s 8ms/step - loss: 0.0016 - accuracy: 1.0000\n",
            "Epoch 9/10\n",
            "32/32 [==============================] - 0s 8ms/step - loss: 0.0013 - accuracy: 1.0000\n",
            "Epoch 10/10\n",
            "32/32 [==============================] - 0s 7ms/step - loss: 0.0010 - accuracy: 1.0000\n",
            "1/1 [==============================] - 0s 470ms/step\n",
            "Предсказание для A: 99.89%\n"
          ]
        }
      ],
      "source": [
        "from keras.models import Sequential\n",
        "from keras.layers import LSTM, Dense\n",
        "import numpy as np\n",
        "\n",
        "# Загрузка данных из файла\n",
        "with open('binary_sequence.txt', 'r') as file:\n",
        "    data = file.readlines()\n",
        "\n",
        "# Преобразование данных в формат для обучения модели\n",
        "X = np.array([list(map(int, line.strip())) for line in data])\n",
        "y = np.array([1 if line.strip() == '01000001' else 0 for line in data])\n",
        "\n",
        "# Создание и обучение модели LSTM\n",
        "model = Sequential()\n",
        "model.add(LSTM(64, input_shape=(X.shape[1], 1)))\n",
        "model.add(Dense(1, activation='sigmoid'))\n",
        "model.compile(loss='binary_crossentropy', optimizer='adam', metrics=['accuracy'])\n",
        "model.fit(np.expand_dims(X, axis=2), y, epochs=10, batch_size=32)\n",
        "\n",
        "# Тестирование модели на входе A = 01000001\n",
        "test_input = np.array([[0, 1, 0, 0, 0, 0, 0, 1]])  # Вход A\n",
        "predicted_output = model.predict(np.expand_dims(test_input, axis=2))\n",
        "print(\"Предсказание для A: {:.2f}%\".format(predicted_output[0][0] * 100))"
      ]
    },
    {
      "cell_type": "code",
      "source": [
        "from keras.datasets import mnist\n",
        "from keras.utils import to_categorical\n",
        "\n",
        "# Загрузка данных\n",
        "(X_train, y_train), (X_test, y_test) = mnist.load_data()\n",
        "\n",
        "# Предобработка данных: преобразование в двоичный вид\n",
        "X_train_binary = (X_train > 127).astype(np.int_)\n",
        "X_test_binary = (X_test > 127).astype(np.int_)\n",
        "\n",
        "# Преобразование формы данных для LSTM\n",
        "time_steps = X_train_binary.shape[1]\n",
        "num_features = X_train_binary.shape[2]\n",
        "X_train_lstm = X_train_binary.reshape(-1, time_steps, num_features)\n",
        "X_test_lstm = X_test_binary.reshape(-1, time_steps, num_features)\n",
        "\n",
        "# Создание LSTM модели\n",
        "model = Sequential([\n",
        "    LSTM(128, input_shape=(time_steps, num_features)),\n",
        "    Dense(10, activation='softmax')\n",
        "])\n",
        "\n",
        "# Компиляция модели\n",
        "model.compile(optimizer='adam',\n",
        "              loss='sparse_categorical_crossentropy',\n",
        "              metrics=['accuracy'])\n",
        "\n",
        "# Обучение модели\n",
        "model.fit(X_train_lstm, y_train, epochs=5, batch_size=32, validation_split=0.2)\n",
        "\n",
        "# Оценка модели на обучающем и контрольном датасете\n",
        "train_loss, train_acc = model.evaluate(X_train_lstm, y_train)\n",
        "test_loss, test_acc = model.evaluate(X_test_lstm, y_test)\n",
        "\n",
        "print(f'Accuracy on training data: {train_acc}')\n",
        "print(f'Accuracy on test data: {test_acc}')\n",
        "\n",
        "# Проверка на одной случайной картинке из обучающего датасета\n",
        "index = np.random.randint(0, len(X_train_lstm))\n",
        "sample_image = X_train_lstm[index]\n",
        "sample_label = y_train[index]\n",
        "\n",
        "prediction = model.predict(np.expand_dims(sample_image, axis=0))\n",
        "predicted_label = np.argmax(prediction)\n",
        "\n",
        "print(f'Actual label: {sample_label}, Predicted label: {predicted_label}')\n",
        "\n",
        "# Проверка на одной случайной картинке из контрольного датасета\n",
        "index = np.random.randint(0, len(X_test_lstm))\n",
        "sample_image = X_test_lstm[index]\n",
        "sample_label = y_test[index]\n",
        "\n",
        "prediction = model.predict(np.expand_dims(sample_image, axis=0))\n",
        "predicted_label = np.argmax(prediction)\n",
        "\n",
        "print(f'Actual label: {sample_label}, Predicted label: {predicted_label}')"
      ],
      "metadata": {
        "colab": {
          "base_uri": "https://localhost:8080/"
        },
        "id": "XLqX-TmXLhPO",
        "outputId": "f48ece50-57aa-4c82-d423-947a156cdf3d"
      },
      "execution_count": 41,
      "outputs": [
        {
          "output_type": "stream",
          "name": "stdout",
          "text": [
            "Epoch 1/5\n",
            "1500/1500 [==============================] - 66s 42ms/step - loss: 0.3922 - accuracy: 0.8723 - val_loss: 0.1442 - val_accuracy: 0.9570\n",
            "Epoch 2/5\n",
            "1500/1500 [==============================] - 64s 43ms/step - loss: 0.1262 - accuracy: 0.9617 - val_loss: 0.1060 - val_accuracy: 0.9678\n",
            "Epoch 3/5\n",
            "1500/1500 [==============================] - 67s 45ms/step - loss: 0.0865 - accuracy: 0.9740 - val_loss: 0.0953 - val_accuracy: 0.9718\n",
            "Epoch 4/5\n",
            "1500/1500 [==============================] - 69s 46ms/step - loss: 0.0684 - accuracy: 0.9787 - val_loss: 0.0742 - val_accuracy: 0.9781\n",
            "Epoch 5/5\n",
            "1500/1500 [==============================] - 69s 46ms/step - loss: 0.0547 - accuracy: 0.9834 - val_loss: 0.0703 - val_accuracy: 0.9789\n",
            "1875/1875 [==============================] - 34s 18ms/step - loss: 0.0502 - accuracy: 0.9850\n",
            "313/313 [==============================] - 7s 21ms/step - loss: 0.0634 - accuracy: 0.9806\n",
            "Accuracy on training data: 0.9850166440010071\n",
            "Accuracy on test data: 0.9805999994277954\n",
            "1/1 [==============================] - 0s 488ms/step\n",
            "Actual label: 2, Predicted label: 2\n",
            "1/1 [==============================] - 0s 30ms/step\n",
            "Actual label: 8, Predicted label: 8\n"
          ]
        }
      ]
    }
  ]
}